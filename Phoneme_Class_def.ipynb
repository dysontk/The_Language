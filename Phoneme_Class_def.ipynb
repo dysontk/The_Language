{
 "cells": [
  {
   "cell_type": "code",
<<<<<<< HEAD
=======
   "execution_count": 2,
   "metadata": {},
   "outputs": [
    {
     "name": "stdout",
     "output_type": "stream",
     "text": [
      "False\n"
     ]
    }
   ],
   "source": [
    "g = ['a', 'b', 'b', '4']\n",
    "print('3' in g)"
   ]
  },
  {
   "cell_type": "code",
>>>>>>> 32b8823b458229b66ea78ce85ed5fd403ca167d6
   "execution_count": 26,
   "metadata": {},
   "outputs": [],
   "source": [
    "class phoneme:\n",
    "    \n",
    "    def __init__(self, name, isCons):\n",
    "        self.name = name\n",
    "        self.pathToPic = None\n",
    "        \n",
    "        articulationOpts = ['Plosive', 'Nasal', 'Trill', 'Tap', 'Fricative',\n",
    "         'Lateral Fricative', 'Approximant', 'Lateral Approximant', 'Click']\n",
    "        placementOpts = ['Bi­labial', 'Labio­dental', 'Dental',\n",
    "                'Alveolar',\t'Post alveolar', 'Retroflex', 'Palatal', \n",
    "                'Velar', 'Uvular',\t'Pharyngeal', 'Glottal', 'Not applicable']\n",
    "        \n",
    "        fromUser = input('Would you like to specify additional aspects of the phoneme? (y/Anything else)')\n",
    "        if not isCons:\n",
    "            self.type = 'vowel'\n",
    "            self.t = 0\n",
    "            self.cPlacement = None\n",
    "            self.cMoA = None\n",
    "            self.voice = True\n",
    "            if fromUser == 'y':\n",
    "                self.vHeight = int(input('Height of vowel (0[lowest], 1, 2, 3[highest]): '))\n",
    "                self.vPlacement = int(input('Placement of vowel (0[fwd], 1, 2[back]) : '))\n",
    "                self.vOpCl = int(input('Is the vowel Open(0) or Closed(1)? '))\n",
    "        else:\n",
    "            self.type = 'consonant'\n",
    "            self.t = 1\n",
    "            self.vHeight = None\n",
    "            self.vPlacement = None\n",
    "            self.vOpCl = None\n",
    "            \n",
    "            if fromUser == 'y':\n",
    "                print('Options for Placement: ')\n",
    "                for i in range(len(placementOpts)):\n",
    "                    print(i, ' -- ', placementOpts[i])\n",
    "                print('')\n",
    "                \n",
    "                self.cPlacement = int(input('Using the key above, tell me the number corresponding to the proper placement. '))\n",
    "                print('Options for Method of Articulation: ')\n",
    "                for i in range(len(articulationOpts)):\n",
    "                    print(i, ' -- ', articulationOpts[i])\n",
    "                print('')\n",
    "                self.cMoA = int(input('Using the key above, tell me the number corresponding to the proper method of Articulation. '))\n",
    "\n",
    "                self.voice = bool(input('Is this phoneme voiced? (1 -- yes, 0 -- no) '))\n",
    "\n",
    "    def add_Pic(path):\n",
    "        self.pathToPic = path\n",
    "    \n",
    "    def printPhoneme(self):\n",
    "\n",
    "        articulationOpts = ['Plosive', 'Nasal', 'Trill', 'Tap', 'Fricative',\n",
    "         'Lateral Fricative', 'Approximant', 'Lateral Approximant', 'Click']\n",
    "        placementOpts = ['Bi­labial', 'Labio­dental', 'Dental',\n",
    "                'Alveolar',\t'Post alveolar', 'Retroflex', 'Palatal', \n",
    "                'Velar', 'Uvular',\t'Pharyngeal', 'Glottal', 'Not applicable']\n",
    "        Heights = ['Bottom', 'Low', 'High', 'Top']\n",
    "        VPlacements = ['Front', 'Mid', 'Back']\n",
    "        \n",
    "        print('Name: ', self.name)\n",
    "        print('Type: ', self.type)\n",
    "        print('Voicing Status: ', 'Voiced') if self.voice else print('Voicing Status: ', 'Unvoiced')\n",
    "        print('Consonant Placement: ', placementOpts[self.cPlacement] if self.cPlacement != None else self.cPlacement)\n",
    "        print('Consonant Method of Articulation', articulationOpts[self.cMoA] if self.cMoA != None else self.cMoA)\n",
    "        print('Vowel Height: ', Heights[self.vHeight])\n",
    "        print('Vowel Placement: ', VPlacements[self.vPlacement])\n",
    "        print('Vowel Open/Closed: ', 'Closed' if self.vOpCl else 'Open')\n",
    "        print('Path to Symbol Image: ', self.pathToPic)\n"
   ]
  },
  {
   "cell_type": "code",
   "execution_count": 20,
   "metadata": {},
   "outputs": [
    {
     "name": "stdout",
     "output_type": "stream",
     "text": [
      "Options for Placement: \n",
      "0  --  Bi­labial\n",
      "1  --  Labio­dental\n",
      "2  --  Dental\n",
      "3  --  Alveolar\n",
      "4  --  Post alveolar\n",
      "5  --  Retroflex\n",
      "6  --  Palatal\n",
      "7  --  Velar\n",
      "8  --  Uvular\n",
      "9  --  Pharyngeal\n",
      "10  --  Glottal\n",
      "11  --  Not applicable\n",
      "\n",
      "Options for Method of Articulation: \n",
      "0  --  Plosive\n",
      "1  --  Nasal\n",
      "2  --  Trill\n",
      "3  --  Tap\n",
      "4  --  Fricative\n",
      "5  --  Lateral Fricative\n",
      "6  --  Approximant\n",
      "7  --  Lateral Approximant\n",
      "8  --  Click\n",
      "\n"
     ]
    }
   ],
   "source": [
    "PowPu = phoneme('powpu', True)"
   ]
  },
  {
   "cell_type": "code",
   "execution_count": 21,
   "metadata": {},
   "outputs": [
    {
     "name": "stdout",
     "output_type": "stream",
     "text": [
      "Name:  powpu\n",
      "Type:  consonant\n",
      "Voicing Status:  Voiced\n",
      "Consonant Placement:  Bi­labial\n",
      "Consonant Method of Articulation Plosive\n",
      "Vowel Height:  None\n",
      "Vowel Placement:  None\n",
      "Vowel Open/Closed:  Open\n",
      "Path to Symbol Image:  None\n"
     ]
    }
   ],
   "source": [
    "PowPu.printPhoneme()"
   ]
  },
  {
   "cell_type": "code",
   "execution_count": 27,
   "metadata": {},
   "outputs": [],
   "source": [
    "sampleVowel = phoneme('sample', False)"
   ]
  },
  {
   "cell_type": "code",
   "execution_count": 28,
   "metadata": {},
   "outputs": [
    {
     "name": "stdout",
     "output_type": "stream",
     "text": [
      "Name:  sample\n",
      "Type:  vowel\n",
      "Voicing Status:  Voiced\n",
      "Consonant Placement:  None\n",
      "Consonant Method of Articulation None\n",
      "Vowel Height:  Top\n",
      "Vowel Placement:  Back\n",
      "Vowel Open/Closed:  Open\n",
      "Path to Symbol Image:  None\n"
     ]
    }
   ],
   "source": [
    "sampleVowel.printPhoneme()"
   ]
  },
  {
   "cell_type": "code",
   "execution_count": 68,
   "metadata": {},
   "outputs": [],
   "source": [
    "def make_letter_auto(nomen, typ, voi, cplace=None, cmoa=None, vHite=None, vplace=None, opcl=None, img=None):\n",
    "    # typword = 'Consonant' if typ else 'Vowel'\n",
    "    # voiceword = 'Voiced' if voi else 'Unvoiced'\n",
    "\n",
    "    letDict = {\n",
    "            'name': nomen,\n",
    "            'type': typ,\n",
    "            # 'typeword':typword,\n",
    "            'voice': voi,\n",
    "            # 'voiceword': voiceword,\n",
    "            'CPlacement':cplace,\n",
    "            'CArticulation': cmoa,\n",
    "            'VHeight':vHite,\n",
    "            'VPlacement':vplace,\n",
    "            'Open_Close':opcl,\n",
    "            'ImagePath':img            \n",
    "            }\n",
    "    return letDict\n",
    "\n",
    "def showAttributes(letter):\n",
    "    TitleList = ['Name', 'Type', 'Voicing Status', 'Consonant Placement', 'Method of Articulation',\n",
    "        'Vowel Height', 'Vowel Placement', 'Vowel Open/Close', 'Path to Image']\n",
    "    \n",
    "    valList = list(letter.values())\n",
    "    for i in range(len(valList)):\n",
    "        print(TitleList[i], ' : ', valList[i])\n",
    "    \n",
    "    return 0\n",
    "\n",
    "def showAttributesWords(letter):\n",
    "    articulationOpts = ['Plosive', 'Nasal', 'Trill', 'Tap', 'Fricative',\n",
    "         'Lateral Fricative', 'Approximant', 'Lateral Approximant', 'Click']\n",
    "    placementOpts = ['Bilabial', 'Labioental', 'Dental',\n",
    "                'Alveolar',\t'Post alveolar', 'Retroflex', 'Palatal', \n",
    "                'Velar', 'Uvular',\t'Pharyngeal', 'Glottal', 'Not applicable']\n",
    "    Heights = ['Bottom', 'Low', 'High', 'Top']\n",
    "    VPlacements = ['Front', 'Mid', 'Back']\n",
    "    \n",
    "    TitleList = ['Name', 'Type', 'Voicing Status', 'Consonant Placement', 'Method of Articulation',\n",
    "        'Vowel Height', 'Vowel Placement', 'Vowel Open/Close', 'Path to Image']\n",
    "    outList = [letter['name']]\n",
    "    if letter['type']: # equiv. to 'isCons'\n",
    "        outList.append('Consonant')\n",
    "        outList.append('Voiced' if letter['voice'] else 'Unvoiced')\n",
    "        outList.append(placementOpts[letter['CPlacement']])\n",
    "        outList.append(articulationOpts[letter['CArticulation']])\n",
    "        for i in range(3):\n",
    "            outList.append(None)\n",
    "\n",
    "    else:\n",
    "        outList.append('Vowel')\n",
    "        outList.append('Voiced' if letter['voice'] else 'Unvoiced')\n",
    "        for i in range(2):\n",
    "            outList.append(None)\n",
    "        outList.append(Heights[letter['VHeight']])\n",
    "        outList.append(VPlacements[letter['VPlacement']])\n",
    "    \n",
    "    outList.append(letter['ImagePath'])\n",
    "    # print(outList)\n",
    "    for j in range(len(outList)):\n",
    "        print(TitleList[j], \": \", outList[j])\n",
    "    \n",
    "    return \n",
    "\n",
    "def make_letter(nom, isCons):\n",
    "    articulationOpts = ['Plosive', 'Nasal', 'Trill', 'Tap', 'Fricative',\n",
    "         'Lateral Fricative', 'Approximant', 'Lateral Approximant', 'Click']\n",
    "    placementOpts = ['Bilabial', 'Labiodental', 'Dental',\n",
    "                'Alveolar',\t'Post alveolar', 'Retroflex', 'Palatal', \n",
    "                'Velar', 'Uvular',\t'Pharyngeal', 'Glottal', 'Not applicable']\n",
    "    if isCons:\n",
    "        print('Options for Placement: ')\n",
    "        for i in range(len(placementOpts)):\n",
    "            print(i, ' -- ', placementOpts[i])\n",
    "        print('')\n",
    "        \n",
    "        cPlacement = int(input('Using the key above, tell me the number corresponding to the proper placement. '))\n",
    "        print('Options for Method of Articulation: ')\n",
    "        for i in range(len(articulationOpts)):\n",
    "            print(i, ' -- ', articulationOpts[i])\n",
    "        print('')\n",
    "        cMoA = int(input('Using the key above, tell me the number corresponding to the proper method of Articulation. '))\n",
    "\n",
    "        voice = bool(input('Is this phoneme voiced? (1 -- yes, 0 -- no) '))\n",
    "        return make_letter_auto(nom, isCons, voice, cplace=cPlacement, cmoa=cMoA)\n",
    "\n",
    "\n",
    "    else:\n",
    "        vHeight = int(input('Height of vowel (0[lowest], 1, 2, 3[highest]): '))\n",
    "        vPlacement = int(input('Placement of vowel (0[fwd], 1, 2[back]) : '))\n",
    "        vOpCl = int(input('Is the vowel Open(0) or Closed(1)? '))\n",
    "\n",
    "        return make_letter_auto(nom, isCons, 1, vHite=vHeight, vplace=vPlacement, opcl=vOpCl)\n"
   ]
  },
  {
   "cell_type": "code",
   "execution_count": 63,
   "metadata": {},
   "outputs": [
    {
     "name": "stdout",
     "output_type": "stream",
     "text": [
      "Name  :  test\n",
      "Type  :  1\n",
      "Voicing Status  :  0\n",
      "Consonant Placement  :  None\n",
      "Method of Articulation  :  None\n",
      "Vowel Height  :  None\n",
      "Vowel Placement  :  None\n",
      "Vowel Open/Close  :  None\n",
      "Path to Image  :  None\n"
     ]
    },
    {
     "data": {
      "text/plain": [
       "0"
      ]
     },
     "execution_count": 63,
     "metadata": {},
     "output_type": "execute_result"
    }
   ],
   "source": [
    "letter = make_letter_auto('test', 1, 0)\n",
    "showAttributes(letter)\n",
    "# showAttributesWords(letter)\n"
   ]
  },
  {
   "cell_type": "code",
   "execution_count": 64,
   "metadata": {},
   "outputs": [
    {
     "name": "stdout",
     "output_type": "stream",
     "text": [
      "Options for Placement: \n",
      "0  --  Bilabial\n",
      "1  --  Labiodental\n",
      "2  --  Dental\n",
      "3  --  Alveolar\n",
      "4  --  Post alveolar\n",
      "5  --  Retroflex\n",
      "6  --  Palatal\n",
      "7  --  Velar\n",
      "8  --  Uvular\n",
      "9  --  Pharyngeal\n",
      "10  --  Glottal\n",
      "11  --  Not applicable\n",
      "\n",
      "Options for Method of Articulation: \n",
      "0  --  Plosive\n",
      "1  --  Nasal\n",
      "2  --  Trill\n",
      "3  --  Tap\n",
      "4  --  Fricative\n",
      "5  --  Lateral Fricative\n",
      "6  --  Approximant\n",
      "7  --  Lateral Approximant\n",
      "8  --  Click\n",
      "\n"
     ]
    }
   ],
   "source": [
    "powpu = make_letter('Powpu', 1)"
   ]
  },
  {
   "cell_type": "code",
   "execution_count": 70,
   "metadata": {},
   "outputs": [
    {
     "name": "stdout",
     "output_type": "stream",
     "text": [
      "Name :  Powpu\n",
      "Type :  Consonant\n",
      "Voicing Status :  Voiced\n",
      "Consonant Placement :  Bilabial\n",
      "Method of Articulation :  Plosive\n",
      "Vowel Height :  None\n",
      "Vowel Placement :  None\n",
      "Vowel Open/Close :  None\n",
      "Path to Image :  None\n"
     ]
    }
   ],
   "source": [
    "showAttributesWords(powpu)"
   ]
  },
  {
   "cell_type": "code",
   "execution_count": 66,
   "metadata": {},
   "outputs": [],
   "source": [
    "ipi = make_letter('Ipi', 0)"
   ]
  },
  {
   "cell_type": "code",
   "execution_count": 69,
   "metadata": {},
   "outputs": [
    {
     "name": "stdout",
     "output_type": "stream",
     "text": [
      "Name :  Ipi\n",
      "Type :  Vowel\n",
      "Voicing Status :  Voiced\n",
      "Consonant Placement :  None\n",
      "Method of Articulation :  None\n",
      "Vowel Height :  Top\n",
      "Vowel Placement :  Front\n",
      "Vowel Open/Close :  None\n"
     ]
    }
   ],
   "source": [
    "showAttributesWords(ipi)"
   ]
  },
  {
   "cell_type": "code",
<<<<<<< HEAD
=======
   "execution_count": 1,
   "metadata": {},
   "outputs": [],
   "source": [
    "import json\n"
   ]
  },
  {
   "cell_type": "code",
   "execution_count": 4,
   "metadata": {},
   "outputs": [
    {
     "name": "stdout",
     "output_type": "stream",
     "text": [
      "<class 'list'>\n"
     ]
    }
   ],
   "source": [
    "with open('LetterLib.json') as file:\n",
    "    file_data = json.load(file)\n",
    "    print(type(file_data))"
   ]
  },
  {
   "cell_type": "code",
   "execution_count": 5,
   "metadata": {},
   "outputs": [
    {
     "data": {
      "text/plain": [
       "[1, 2, 3, 4]"
      ]
     },
     "execution_count": 5,
     "metadata": {},
     "output_type": "execute_result"
    }
   ],
   "source": [
    "[1, 2]+[3, 4]"
   ]
  },
  {
   "cell_type": "code",
>>>>>>> 32b8823b458229b66ea78ce85ed5fd403ca167d6
   "execution_count": null,
   "metadata": {},
   "outputs": [],
   "source": []
  }
 ],
 "metadata": {
  "kernelspec": {
   "display_name": "base",
   "language": "python",
   "name": "python3"
  },
  "language_info": {
   "codemirror_mode": {
    "name": "ipython",
    "version": 3
   },
   "file_extension": ".py",
   "mimetype": "text/x-python",
   "name": "python",
   "nbconvert_exporter": "python",
   "pygments_lexer": "ipython3",
   "version": "3.6.5"
  },
  "orig_nbformat": 4,
  "vscode": {
   "interpreter": {
    "hash": "b1590c6b09fe456170959f1475a59096df35cf72036d07744b89c64127addb95"
   }
  }
 },
 "nbformat": 4,
 "nbformat_minor": 2
}
